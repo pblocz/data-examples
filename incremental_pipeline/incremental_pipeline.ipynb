{
 "cells": [
  {
   "cell_type": "code",
   "execution_count": 1,
   "metadata": {},
   "outputs": [],
   "source": [
    "from typing import List\n",
    "import polars as pl\n",
    "from deltalake import DeltaTable\n",
    "from datetime import datetime\n",
    "from deltalake.exceptions import TableNotFoundError"
   ]
  },
  {
   "cell_type": "markdown",
   "metadata": {},
   "source": [
    "## Utility functions"
   ]
  },
  {
   "cell_type": "code",
   "execution_count": 2,
   "metadata": {},
   "outputs": [],
   "source": [
    "from datetime import timezone\n",
    "\n",
    "def try_merge_delta(df, table_path, predicate, content_predicate=None):\n",
    "    try:\n",
    "        output = (\n",
    "            df\n",
    "            .write_delta(\n",
    "                table_path,      \n",
    "                mode='merge',\n",
    "                delta_merge_options={\n",
    "                    'predicate': predicate,\n",
    "                    'source_alias': 'source',\n",
    "                    'target_alias': 'target',\n",
    "                    'large_dtypes': False, \n",
    "                },\n",
    "                delta_write_options={\"schema_mode\": \"merge\"},\n",
    "            )\n",
    "            .when_matched_update_all(predicate=content_predicate)\n",
    "            .when_not_matched_insert_all()\n",
    "            .execute()\n",
    "        )\n",
    "    except TableNotFoundError:\n",
    "        print(f\"Table {table_path} does not exist, creating it.\")\n",
    "        output = (\n",
    "            df\n",
    "            .write_delta(\n",
    "                table_path,\n",
    "                mode='error',\n",
    "                delta_write_options={\n",
    "                    \"configuration\": {\n",
    "                        \"delta.minWriterVersion\": \"7\",\n",
    "                        \"delta.minReaderVersion\": \"3\", \n",
    "                        \"delta.enableChangeDataFeed\": \"true\"\n",
    "                    }\n",
    "                }\n",
    "            )\n",
    "        )\n",
    "\n",
    "    return output\n",
    "\n",
    "\n",
    "def delta_changes_from_timestamp(\n",
    "        path: str, \n",
    "        key_columns: List[str],\n",
    "        starting_timestamp: datetime = None,\n",
    "        ending_timestamp: datetime = None,\n",
    "        drop_cdf_columns: bool = True\n",
    ") -> pl.DataFrame:\n",
    "\n",
    "    def _date(version: datetime):\n",
    "        if version.tzinfo is None:\n",
    "            version = version.astimezone(timezone.utc)\n",
    "        return version\n",
    "\n",
    "    dt = DeltaTable(path)\n",
    "    dttable = dt.load_cdf(\n",
    "        starting_timestamp=_date(starting_timestamp).isoformat() if starting_timestamp else None,\n",
    "        ending_timestamp=_date(ending_timestamp).isoformat() if ending_timestamp else None,\n",
    "    ).read_all()\n",
    "    pt = pl.from_arrow(dttable)\n",
    "\n",
    "    if starting_timestamp: \n",
    "        pt = pt.filter(pl.col(\"_commit_timestamp\") > pl.lit(starting_timestamp).cast(pl.Datetime(\"ms\")))\n",
    "\n",
    "    # Get only the latest state for each row\n",
    "    changed_rows = (\n",
    "        pt\n",
    "        .with_columns(rn=pl.col(\"_commit_version\").rank(\"dense\", descending=True).over(key_columns))\n",
    "        .filter(pl.col(\"rn\") == 1)\n",
    "        .filter(pl.col(\"_change_type\").is_in([\"insert\", \"update_postimage\"]))\n",
    "        .drop(\"rn\")\n",
    "    )\n",
    "    if drop_cdf_columns:\n",
    "        changed_rows = changed_rows.drop(\"_change_type\", \"_commit_version\", \"_commit_timestamp\")\n",
    "\n",
    "    return changed_rows\n",
    "\n",
    "\n",
    "def delta_changes_from_version(\n",
    "        path: str, \n",
    "        key_columns: List[str],\n",
    "        starting_version: int = 0,\n",
    "        ending_version: int = None,\n",
    "        drop_cdf_columns: bool = True,\n",
    ") -> pl.DataFrame:\n",
    "\n",
    "    dt = DeltaTable(path)\n",
    "    dttable = dt.load_cdf(\n",
    "        starting_version=starting_version,\n",
    "        ending_version=ending_version,\n",
    "    ).read_all()\n",
    "    pt = pl.from_arrow(dttable)\n",
    "\n",
    "    if starting_version: \n",
    "        pt = pt.filter(pl.col(\"_commit_version\") > starting_version)\n",
    "\n",
    "    # Get only the latest state for each row\n",
    "    changed_rows = (\n",
    "        pt\n",
    "        .with_columns(rn=pl.col(\"_commit_version\").rank(\"dense\", descending=True).over(key_columns))\n",
    "        .filter(pl.col(\"rn\") == 1)\n",
    "        .filter(pl.col(\"_change_type\").is_in([\"insert\", \"update_postimage\"]))\n",
    "        .drop(\"rn\")\n",
    "    )\n",
    "    if drop_cdf_columns:\n",
    "        changed_rows = changed_rows.drop(\"_change_type\", \"_commit_version\", \"_commit_timestamp\")\n",
    "\n",
    "    return changed_rows\n",
    "\n",
    "\n",
    "def read_watermark(table_path, watermark_table):\n",
    "    watermark_df = pl.read_delta(watermark_table).filter(pl.col(\"table_path\") == table_path)\n",
    "    watermark = watermark_df.select(\"watermark_timestamp\").item() if watermark_df.select(pl.len()).item() != 0 else None\n",
    "\n",
    "    return watermark"
   ]
  },
  {
   "cell_type": "markdown",
   "metadata": {},
   "source": [
    "## Parameters"
   ]
  },
  {
   "cell_type": "code",
   "execution_count": null,
   "metadata": {},
   "outputs": [],
   "source": [
    "source_table_path = \"_output/test/incremental\"\n",
    "target_table_path = \"_output/target\"\n",
    "watermark_table = \"_output/watermark\"\n",
    "merge_columnns = [\"id\"]\n",
    "content_columns = [\"value\"]\n",
    "\n",
    "merge_predicate = \" AND \".join(f\"source.{c} == target.{c}\" for c in merge_columnns)\n",
    "content_predicate = \" OR \".join(f\"(source.{f} != target.{f})\" for f in content_columns)"
   ]
  },
  {
   "cell_type": "markdown",
   "metadata": {},
   "source": [
    "## Create and update delta"
   ]
  },
  {
   "cell_type": "code",
   "execution_count": 4,
   "metadata": {},
   "outputs": [
    {
     "name": "stdout",
     "output_type": "stream",
     "text": [
      "Table _output/test/incremental11 does not exist, creating it.\n"
     ]
    }
   ],
   "source": [
    "t0 = datetime.now(timezone.utc)\n",
    "df = pl.DataFrame({\n",
    "    \"id\": [\"a\", \"b\", \"c\"],\n",
    "    \"value\": [1, 1, 1]\n",
    "})\n",
    "try_merge_delta(df, table_path=source_table_path, predicate=merge_predicate, content_predicate=content_predicate)"
   ]
  },
  {
   "cell_type": "code",
   "execution_count": 5,
   "metadata": {},
   "outputs": [
    {
     "data": {
      "text/plain": [
       "{'num_source_rows': 2,\n",
       " 'num_target_rows_inserted': 1,\n",
       " 'num_target_rows_updated': 1,\n",
       " 'num_target_rows_deleted': 0,\n",
       " 'num_target_rows_copied': 2,\n",
       " 'num_output_rows': 4,\n",
       " 'num_target_files_scanned': 1,\n",
       " 'num_target_files_skipped_during_scan': 0,\n",
       " 'num_target_files_added': 5,\n",
       " 'num_target_files_removed': 1,\n",
       " 'execution_time_ms': 251,\n",
       " 'scan_time_ms': 0,\n",
       " 'rewrite_time_ms': 210}"
      ]
     },
     "execution_count": 5,
     "metadata": {},
     "output_type": "execute_result"
    }
   ],
   "source": [
    "t1 = datetime.now(timezone.utc)\n",
    "df = pl.DataFrame({\n",
    "    \"id\": [\"a\", \"d\"],\n",
    "    \"value\": [5, 5],\n",
    "})\n",
    "try_merge_delta(df, table_path=source_table_path, predicate=merge_predicate, content_predicate=content_predicate)"
   ]
  },
  {
   "cell_type": "code",
   "execution_count": 6,
   "metadata": {},
   "outputs": [
    {
     "data": {
      "text/plain": [
       "{'num_source_rows': 3,\n",
       " 'num_target_rows_inserted': 0,\n",
       " 'num_target_rows_updated': 2,\n",
       " 'num_target_rows_deleted': 0,\n",
       " 'num_target_rows_copied': 1,\n",
       " 'num_output_rows': 3,\n",
       " 'num_target_files_scanned': 2,\n",
       " 'num_target_files_skipped_during_scan': 0,\n",
       " 'num_target_files_added': 5,\n",
       " 'num_target_files_removed': 1,\n",
       " 'execution_time_ms': 212,\n",
       " 'scan_time_ms': 0,\n",
       " 'rewrite_time_ms': 175}"
      ]
     },
     "execution_count": 6,
     "metadata": {},
     "output_type": "execute_result"
    }
   ],
   "source": [
    "t2 = datetime.now(timezone.utc)\n",
    "df = pl.DataFrame({\n",
    "    \"id\": [\"b\", \"a\", \"d\"],\n",
    "    \"value\": [6, 6, 5],\n",
    "})\n",
    "try_merge_delta(df, table_path=source_table_path, predicate=merge_predicate, content_predicate=content_predicate)"
   ]
  },
  {
   "cell_type": "markdown",
   "metadata": {},
   "source": [
    "### Show history of the table and the metadata of CDF"
   ]
  },
  {
   "cell_type": "code",
   "execution_count": 7,
   "metadata": {},
   "outputs": [
    {
     "data": {
      "text/html": [
       "<div><style>\n",
       ".dataframe > thead > tr,\n",
       ".dataframe > tbody > tr {\n",
       "  text-align: right;\n",
       "  white-space: pre-wrap;\n",
       "}\n",
       "</style>\n",
       "<small>shape: (3, 7)</small><table border=\"1\" class=\"dataframe\"><thead><tr><th>timestamp</th><th>operation</th><th>operationParameters</th><th>readVersion</th><th>operationMetrics</th><th>clientVersion</th><th>version</th></tr><tr><td>i64</td><td>str</td><td>struct[6]</td><td>i64</td><td>struct[17]</td><td>str</td><td>i64</td></tr></thead><tbody><tr><td>1732906098043</td><td>&quot;MERGE&quot;</td><td>{&quot;[]&quot;,&quot;[{&quot;actionType&quot;:&quot;update&quot;,&quot;predicate&quot;:&quot;source.value != target.value&quot;}]&quot;,&quot;id BETWEEN &#x27;a&#x27; AND &#x27;d&#x27;&quot;,&quot;source.id = target.id&quot;,&quot;[{&quot;actionType&quot;:&quot;insert&quot;}]&quot;,null}</td><td>1</td><td>{212,3,3,5,1,2,0,1,0,0,2,175,0,null,null,null,null}</td><td>&quot;delta-rs.0.22.1&quot;</td><td>2</td></tr><tr><td>1732906097792</td><td>&quot;MERGE&quot;</td><td>{&quot;[]&quot;,&quot;[{&quot;actionType&quot;:&quot;update&quot;,&quot;predicate&quot;:&quot;source.value != target.value&quot;}]&quot;,&quot;id BETWEEN &#x27;a&#x27; AND &#x27;d&#x27;&quot;,&quot;source.id = target.id&quot;,&quot;[{&quot;actionType&quot;:&quot;insert&quot;}]&quot;,null}</td><td>0</td><td>{251,4,2,5,1,1,0,2,0,1,1,210,0,null,null,null,null}</td><td>&quot;delta-rs.0.22.1&quot;</td><td>1</td></tr><tr><td>1732906097513</td><td>&quot;WRITE&quot;</td><td>{null,null,null,null,null,&quot;ErrorIfExists&quot;}</td><td>null</td><td>{4,null,null,null,null,null,null,null,null,null,null,null,null,1,3,0,0}</td><td>&quot;delta-rs.0.22.1&quot;</td><td>0</td></tr></tbody></table></div>"
      ],
      "text/plain": [
       "shape: (3, 7)\n",
       "┌───────────────┬───────────┬───────────────┬─────────────┬───────────────┬──────────────┬─────────┐\n",
       "│ timestamp     ┆ operation ┆ operationPara ┆ readVersion ┆ operationMetr ┆ clientVersio ┆ version │\n",
       "│ ---           ┆ ---       ┆ meters        ┆ ---         ┆ ics           ┆ n            ┆ ---     │\n",
       "│ i64           ┆ str       ┆ ---           ┆ i64         ┆ ---           ┆ ---          ┆ i64     │\n",
       "│               ┆           ┆ struct[6]     ┆             ┆ struct[17]    ┆ str          ┆         │\n",
       "╞═══════════════╪═══════════╪═══════════════╪═════════════╪═══════════════╪══════════════╪═════════╡\n",
       "│ 1732906098043 ┆ MERGE     ┆ {\"[]\",\"[{\"act ┆ 1           ┆ {212,3,3,5,1, ┆ delta-rs.0.2 ┆ 2       │\n",
       "│               ┆           ┆ ionType\":\"upd ┆             ┆ 2,0,1,0,0,2,1 ┆ 2.1          ┆         │\n",
       "│               ┆           ┆ ate\"…         ┆             ┆ 75,0…         ┆              ┆         │\n",
       "│ 1732906097792 ┆ MERGE     ┆ {\"[]\",\"[{\"act ┆ 0           ┆ {251,4,2,5,1, ┆ delta-rs.0.2 ┆ 1       │\n",
       "│               ┆           ┆ ionType\":\"upd ┆             ┆ 1,0,2,0,1,1,2 ┆ 2.1          ┆         │\n",
       "│               ┆           ┆ ate\"…         ┆             ┆ 10,0…         ┆              ┆         │\n",
       "│ 1732906097513 ┆ WRITE     ┆ {null,null,nu ┆ null        ┆ {4,null,null, ┆ delta-rs.0.2 ┆ 0       │\n",
       "│               ┆           ┆ ll,null,null, ┆             ┆ null,null,nul ┆ 2.1          ┆         │\n",
       "│               ┆           ┆ \"Err…         ┆             ┆ l,nu…         ┆              ┆         │\n",
       "└───────────────┴───────────┴───────────────┴─────────────┴───────────────┴──────────────┴─────────┘"
      ]
     },
     "execution_count": 7,
     "metadata": {},
     "output_type": "execute_result"
    }
   ],
   "source": [
    "dt = DeltaTable(source_table_path)\n",
    "\n",
    "pl.DataFrame(dt.history())"
   ]
  },
  {
   "cell_type": "code",
   "execution_count": 8,
   "metadata": {},
   "outputs": [
    {
     "data": {
      "text/plain": [
       "{'delta.minReaderVersion': '3',\n",
       " 'delta.enableChangeDataFeed': 'true',\n",
       " 'delta.minWriterVersion': '7'}"
      ]
     },
     "execution_count": 8,
     "metadata": {},
     "output_type": "execute_result"
    }
   ],
   "source": [
    "dt.metadata().configuration"
   ]
  },
  {
   "cell_type": "code",
   "execution_count": 9,
   "metadata": {},
   "outputs": [
    {
     "data": {
      "text/plain": [
       "ProtocolVersions(min_reader_version=3, min_writer_version=7, writer_features=['changeDataFeed'], reader_features=None)"
      ]
     },
     "execution_count": 9,
     "metadata": {},
     "output_type": "execute_result"
    }
   ],
   "source": [
    "dt.protocol()"
   ]
  },
  {
   "cell_type": "markdown",
   "metadata": {},
   "source": [
    "## Read CDF to read rows from a timestamp"
   ]
  },
  {
   "cell_type": "code",
   "execution_count": 10,
   "metadata": {},
   "outputs": [
    {
     "data": {
      "text/plain": [
       "'2024-11-29T18:48:17.491118+00:00'"
      ]
     },
     "execution_count": 10,
     "metadata": {},
     "output_type": "execute_result"
    }
   ],
   "source": [
    "t0.isoformat()"
   ]
  },
  {
   "cell_type": "code",
   "execution_count": 11,
   "metadata": {},
   "outputs": [
    {
     "data": {
      "text/html": [
       "<div><style>\n",
       ".dataframe > thead > tr,\n",
       ".dataframe > tbody > tr {\n",
       "  text-align: right;\n",
       "  white-space: pre-wrap;\n",
       "}\n",
       "</style>\n",
       "<small>shape: (4, 5)</small><table border=\"1\" class=\"dataframe\"><thead><tr><th>id</th><th>value</th><th>_change_type</th><th>_commit_version</th><th>_commit_timestamp</th></tr><tr><td>str</td><td>i64</td><td>str</td><td>i64</td><td>datetime[ms]</td></tr></thead><tbody><tr><td>&quot;b&quot;</td><td>6</td><td>&quot;update_postimage&quot;</td><td>2</td><td>2024-11-29 18:48:18.043</td></tr><tr><td>&quot;a&quot;</td><td>6</td><td>&quot;update_postimage&quot;</td><td>2</td><td>2024-11-29 18:48:18.043</td></tr><tr><td>&quot;d&quot;</td><td>5</td><td>&quot;insert&quot;</td><td>1</td><td>2024-11-29 18:48:17.792</td></tr><tr><td>&quot;c&quot;</td><td>1</td><td>&quot;insert&quot;</td><td>0</td><td>2024-11-29 18:48:17.513</td></tr></tbody></table></div>"
      ],
      "text/plain": [
       "shape: (4, 5)\n",
       "┌─────┬───────┬──────────────────┬─────────────────┬─────────────────────────┐\n",
       "│ id  ┆ value ┆ _change_type     ┆ _commit_version ┆ _commit_timestamp       │\n",
       "│ --- ┆ ---   ┆ ---              ┆ ---             ┆ ---                     │\n",
       "│ str ┆ i64   ┆ str              ┆ i64             ┆ datetime[ms]            │\n",
       "╞═════╪═══════╪══════════════════╪═════════════════╪═════════════════════════╡\n",
       "│ b   ┆ 6     ┆ update_postimage ┆ 2               ┆ 2024-11-29 18:48:18.043 │\n",
       "│ a   ┆ 6     ┆ update_postimage ┆ 2               ┆ 2024-11-29 18:48:18.043 │\n",
       "│ d   ┆ 5     ┆ insert           ┆ 1               ┆ 2024-11-29 18:48:17.792 │\n",
       "│ c   ┆ 1     ┆ insert           ┆ 0               ┆ 2024-11-29 18:48:17.513 │\n",
       "└─────┴───────┴──────────────────┴─────────────────┴─────────────────────────┘"
      ]
     },
     "execution_count": 11,
     "metadata": {},
     "output_type": "execute_result"
    }
   ],
   "source": [
    "delta_changes_from_timestamp(source_table_path, starting_timestamp=t0, key_columns=merge_columnns, drop_cdf_columns=False)"
   ]
  },
  {
   "cell_type": "code",
   "execution_count": 12,
   "metadata": {},
   "outputs": [
    {
     "data": {
      "text/html": [
       "<div><style>\n",
       ".dataframe > thead > tr,\n",
       ".dataframe > tbody > tr {\n",
       "  text-align: right;\n",
       "  white-space: pre-wrap;\n",
       "}\n",
       "</style>\n",
       "<small>shape: (3, 2)</small><table border=\"1\" class=\"dataframe\"><thead><tr><th>id</th><th>value</th></tr><tr><td>str</td><td>i64</td></tr></thead><tbody><tr><td>&quot;d&quot;</td><td>5</td></tr><tr><td>&quot;b&quot;</td><td>6</td></tr><tr><td>&quot;a&quot;</td><td>6</td></tr></tbody></table></div>"
      ],
      "text/plain": [
       "shape: (3, 2)\n",
       "┌─────┬───────┐\n",
       "│ id  ┆ value │\n",
       "│ --- ┆ ---   │\n",
       "│ str ┆ i64   │\n",
       "╞═════╪═══════╡\n",
       "│ d   ┆ 5     │\n",
       "│ b   ┆ 6     │\n",
       "│ a   ┆ 6     │\n",
       "└─────┴───────┘"
      ]
     },
     "execution_count": 12,
     "metadata": {},
     "output_type": "execute_result"
    }
   ],
   "source": [
    "delta_changes_from_timestamp(source_table_path, starting_timestamp=t1, key_columns=merge_columnns)"
   ]
  },
  {
   "cell_type": "code",
   "execution_count": 13,
   "metadata": {},
   "outputs": [
    {
     "data": {
      "text/html": [
       "<div><style>\n",
       ".dataframe > thead > tr,\n",
       ".dataframe > tbody > tr {\n",
       "  text-align: right;\n",
       "  white-space: pre-wrap;\n",
       "}\n",
       "</style>\n",
       "<small>shape: (2, 5)</small><table border=\"1\" class=\"dataframe\"><thead><tr><th>id</th><th>value</th><th>_change_type</th><th>_commit_version</th><th>_commit_timestamp</th></tr><tr><td>str</td><td>i64</td><td>str</td><td>i64</td><td>datetime[ms]</td></tr></thead><tbody><tr><td>&quot;b&quot;</td><td>6</td><td>&quot;update_postimage&quot;</td><td>2</td><td>2024-11-29 18:48:18.043</td></tr><tr><td>&quot;a&quot;</td><td>6</td><td>&quot;update_postimage&quot;</td><td>2</td><td>2024-11-29 18:48:18.043</td></tr></tbody></table></div>"
      ],
      "text/plain": [
       "shape: (2, 5)\n",
       "┌─────┬───────┬──────────────────┬─────────────────┬─────────────────────────┐\n",
       "│ id  ┆ value ┆ _change_type     ┆ _commit_version ┆ _commit_timestamp       │\n",
       "│ --- ┆ ---   ┆ ---              ┆ ---             ┆ ---                     │\n",
       "│ str ┆ i64   ┆ str              ┆ i64             ┆ datetime[ms]            │\n",
       "╞═════╪═══════╪══════════════════╪═════════════════╪═════════════════════════╡\n",
       "│ b   ┆ 6     ┆ update_postimage ┆ 2               ┆ 2024-11-29 18:48:18.043 │\n",
       "│ a   ┆ 6     ┆ update_postimage ┆ 2               ┆ 2024-11-29 18:48:18.043 │\n",
       "└─────┴───────┴──────────────────┴─────────────────┴─────────────────────────┘"
      ]
     },
     "execution_count": 13,
     "metadata": {},
     "output_type": "execute_result"
    }
   ],
   "source": [
    "delta_changes_from_timestamp(source_table_path, starting_timestamp=t2, key_columns=merge_columnns, drop_cdf_columns=False)"
   ]
  },
  {
   "cell_type": "markdown",
   "metadata": {},
   "source": [
    "## First time running the incremental pipeline"
   ]
  },
  {
   "cell_type": "markdown",
   "metadata": {},
   "source": [
    "Create empty watermark the first time"
   ]
  },
  {
   "cell_type": "code",
   "execution_count": 14,
   "metadata": {},
   "outputs": [
    {
     "data": {
      "text/plain": [
       "DeltaTable()"
      ]
     },
     "execution_count": 14,
     "metadata": {},
     "output_type": "execute_result"
    }
   ],
   "source": [
    "from deltalake import DeltaTable\n",
    "\n",
    "empty_watermark = pl.DataFrame([], schema= pl.Schema([\n",
    "    ('table_path', pl.String),\n",
    "    ('merge_columns', pl.List(pl.String)),\n",
    "    ('content_columns', pl.List(pl.String)),\n",
    "    ('watermark_version', pl.Int64),\n",
    "    ('watermark_timestamp', pl.Datetime(time_unit='us', time_zone=None))]\n",
    "))\n",
    "\n",
    "DeltaTable.create(watermark_table, schema=empty_watermark.to_arrow().schema, mode=\"overwrite\")\n"
   ]
  },
  {
   "cell_type": "markdown",
   "metadata": {},
   "source": [
    "## On each update\n",
    "- Read old watemark\n",
    "- Use it to read the latest status of all created or updated rows from the watermark\n",
    "- Do any transformation and write into output\n",
    "- Update watermark"
   ]
  },
  {
   "cell_type": "code",
   "execution_count": 15,
   "metadata": {},
   "outputs": [
    {
     "name": "stdout",
     "output_type": "stream",
     "text": [
      "2 2024-11-29 18:48:18.043000\n"
     ]
    },
    {
     "data": {
      "text/html": [
       "<div><style>\n",
       ".dataframe > thead > tr,\n",
       ".dataframe > tbody > tr {\n",
       "  text-align: right;\n",
       "  white-space: pre-wrap;\n",
       "}\n",
       "</style>\n",
       "<small>shape: (4, 5)</small><table border=\"1\" class=\"dataframe\"><thead><tr><th>id</th><th>value</th><th>_change_type</th><th>_commit_version</th><th>_commit_timestamp</th></tr><tr><td>str</td><td>i64</td><td>str</td><td>i64</td><td>datetime[ms]</td></tr></thead><tbody><tr><td>&quot;d&quot;</td><td>5</td><td>&quot;insert&quot;</td><td>1</td><td>2024-11-29 18:48:17.792</td></tr><tr><td>&quot;b&quot;</td><td>6</td><td>&quot;update_postimage&quot;</td><td>2</td><td>2024-11-29 18:48:18.043</td></tr><tr><td>&quot;a&quot;</td><td>6</td><td>&quot;update_postimage&quot;</td><td>2</td><td>2024-11-29 18:48:18.043</td></tr><tr><td>&quot;c&quot;</td><td>1</td><td>&quot;insert&quot;</td><td>0</td><td>2024-11-29 18:48:17.513</td></tr></tbody></table></div>"
      ],
      "text/plain": [
       "shape: (4, 5)\n",
       "┌─────┬───────┬──────────────────┬─────────────────┬─────────────────────────┐\n",
       "│ id  ┆ value ┆ _change_type     ┆ _commit_version ┆ _commit_timestamp       │\n",
       "│ --- ┆ ---   ┆ ---              ┆ ---             ┆ ---                     │\n",
       "│ str ┆ i64   ┆ str              ┆ i64             ┆ datetime[ms]            │\n",
       "╞═════╪═══════╪══════════════════╪═════════════════╪═════════════════════════╡\n",
       "│ d   ┆ 5     ┆ insert           ┆ 1               ┆ 2024-11-29 18:48:17.792 │\n",
       "│ b   ┆ 6     ┆ update_postimage ┆ 2               ┆ 2024-11-29 18:48:18.043 │\n",
       "│ a   ┆ 6     ┆ update_postimage ┆ 2               ┆ 2024-11-29 18:48:18.043 │\n",
       "│ c   ┆ 1     ┆ insert           ┆ 0               ┆ 2024-11-29 18:48:17.513 │\n",
       "└─────┴───────┴──────────────────┴─────────────────┴─────────────────────────┘"
      ]
     },
     "execution_count": 15,
     "metadata": {},
     "output_type": "execute_result"
    }
   ],
   "source": [
    "low_watermark = read_watermark(target_table_path, watermark_table)\n",
    "\n",
    "rows = delta_changes_from_timestamp(source_table_path, starting_timestamp=low_watermark, key_columns=merge_columnns, drop_cdf_columns=False)\n",
    "new_watermark_version = rows.select(pl.max(\"_commit_version\")).item()\n",
    "new_watermark_ts = rows.filter(pl.col(\"_commit_version\") == new_watermark_version).select(pl.max(\"_commit_timestamp\")).item()\n",
    "\n",
    "print(new_watermark_version, new_watermark_ts)\n",
    "rows"
   ]
  },
  {
   "cell_type": "code",
   "execution_count": null,
   "metadata": {},
   "outputs": [],
   "source": [
    "# Do something with rows to write rows into target_table_path\n",
    "..."
   ]
  },
  {
   "cell_type": "code",
   "execution_count": 17,
   "metadata": {},
   "outputs": [
    {
     "data": {
      "text/plain": [
       "{'num_source_rows': 1,\n",
       " 'num_target_rows_inserted': 1,\n",
       " 'num_target_rows_updated': 0,\n",
       " 'num_target_rows_deleted': 0,\n",
       " 'num_target_rows_copied': 0,\n",
       " 'num_output_rows': 1,\n",
       " 'num_target_files_scanned': 0,\n",
       " 'num_target_files_skipped_during_scan': 0,\n",
       " 'num_target_files_added': 1,\n",
       " 'num_target_files_removed': 0,\n",
       " 'execution_time_ms': 72,\n",
       " 'scan_time_ms': 0,\n",
       " 'rewrite_time_ms': 4}"
      ]
     },
     "execution_count": 17,
     "metadata": {},
     "output_type": "execute_result"
    }
   ],
   "source": [
    "watermark_update = pl.DataFrame(\n",
    "    data=[[target_table_path, merge_columnns, content_columns, new_watermark_version, new_watermark_ts]], \n",
    "    schema=[\"table_path\", \"merge_columns\", \"content_columns\", \"watermark_version\", \"watermark_timestamp\"], \n",
    "    orient=\"row\"\n",
    ")\n",
    "\n",
    "try_merge_delta(watermark_update, watermark_table, \"source.table_path == target.table_path\")"
   ]
  },
  {
   "cell_type": "markdown",
   "metadata": {},
   "source": [
    "## Another update and lets see how the watermark works"
   ]
  },
  {
   "cell_type": "code",
   "execution_count": 18,
   "metadata": {},
   "outputs": [
    {
     "data": {
      "text/plain": [
       "{'num_source_rows': 2,\n",
       " 'num_target_rows_inserted': 1,\n",
       " 'num_target_rows_updated': 1,\n",
       " 'num_target_rows_deleted': 0,\n",
       " 'num_target_rows_copied': 2,\n",
       " 'num_output_rows': 4,\n",
       " 'num_target_files_scanned': 2,\n",
       " 'num_target_files_skipped_during_scan': 0,\n",
       " 'num_target_files_added': 5,\n",
       " 'num_target_files_removed': 1,\n",
       " 'execution_time_ms': 236,\n",
       " 'scan_time_ms': 0,\n",
       " 'rewrite_time_ms': 179}"
      ]
     },
     "execution_count": 18,
     "metadata": {},
     "output_type": "execute_result"
    }
   ],
   "source": [
    "df = pl.DataFrame({\n",
    "    \"id\": [\"b\", \"e\"],\n",
    "    \"value\": [8, 9],\n",
    "})\n",
    "try_merge_delta(df, table_path=source_table_path, predicate=merge_predicate, content_predicate=content_predicate)"
   ]
  },
  {
   "cell_type": "markdown",
   "metadata": {},
   "source": [
    "This is the input watermark"
   ]
  },
  {
   "cell_type": "code",
   "execution_count": 19,
   "metadata": {},
   "outputs": [
    {
     "data": {
      "text/html": [
       "<div><style>\n",
       ".dataframe > thead > tr,\n",
       ".dataframe > tbody > tr {\n",
       "  text-align: right;\n",
       "  white-space: pre-wrap;\n",
       "}\n",
       "</style>\n",
       "<small>shape: (1, 5)</small><table border=\"1\" class=\"dataframe\"><thead><tr><th>table_path</th><th>merge_columns</th><th>content_columns</th><th>watermark_version</th><th>watermark_timestamp</th></tr><tr><td>str</td><td>list[str]</td><td>list[str]</td><td>i64</td><td>datetime[μs]</td></tr></thead><tbody><tr><td>&quot;_output/target&quot;</td><td>[&quot;id&quot;]</td><td>[&quot;value&quot;]</td><td>2</td><td>2024-11-29 18:48:18.043</td></tr></tbody></table></div>"
      ],
      "text/plain": [
       "shape: (1, 5)\n",
       "┌────────────────┬───────────────┬─────────────────┬───────────────────┬─────────────────────────┐\n",
       "│ table_path     ┆ merge_columns ┆ content_columns ┆ watermark_version ┆ watermark_timestamp     │\n",
       "│ ---            ┆ ---           ┆ ---             ┆ ---               ┆ ---                     │\n",
       "│ str            ┆ list[str]     ┆ list[str]       ┆ i64               ┆ datetime[μs]            │\n",
       "╞════════════════╪═══════════════╪═════════════════╪═══════════════════╪═════════════════════════╡\n",
       "│ _output/target ┆ [\"id\"]        ┆ [\"value\"]       ┆ 2                 ┆ 2024-11-29 18:48:18.043 │\n",
       "└────────────────┴───────────────┴─────────────────┴───────────────────┴─────────────────────────┘"
      ]
     },
     "execution_count": 19,
     "metadata": {},
     "output_type": "execute_result"
    }
   ],
   "source": [
    "pl.read_delta(watermark_table)"
   ]
  },
  {
   "cell_type": "code",
   "execution_count": 20,
   "metadata": {},
   "outputs": [
    {
     "name": "stdout",
     "output_type": "stream",
     "text": [
      "3 2024-11-29 18:48:18.793000\n"
     ]
    },
    {
     "data": {
      "text/html": [
       "<div><style>\n",
       ".dataframe > thead > tr,\n",
       ".dataframe > tbody > tr {\n",
       "  text-align: right;\n",
       "  white-space: pre-wrap;\n",
       "}\n",
       "</style>\n",
       "<small>shape: (2, 5)</small><table border=\"1\" class=\"dataframe\"><thead><tr><th>id</th><th>value</th><th>_change_type</th><th>_commit_version</th><th>_commit_timestamp</th></tr><tr><td>str</td><td>i64</td><td>str</td><td>i64</td><td>datetime[ms]</td></tr></thead><tbody><tr><td>&quot;b&quot;</td><td>8</td><td>&quot;update_postimage&quot;</td><td>3</td><td>2024-11-29 18:48:18.793</td></tr><tr><td>&quot;e&quot;</td><td>9</td><td>&quot;insert&quot;</td><td>3</td><td>2024-11-29 18:48:18.793</td></tr></tbody></table></div>"
      ],
      "text/plain": [
       "shape: (2, 5)\n",
       "┌─────┬───────┬──────────────────┬─────────────────┬─────────────────────────┐\n",
       "│ id  ┆ value ┆ _change_type     ┆ _commit_version ┆ _commit_timestamp       │\n",
       "│ --- ┆ ---   ┆ ---              ┆ ---             ┆ ---                     │\n",
       "│ str ┆ i64   ┆ str              ┆ i64             ┆ datetime[ms]            │\n",
       "╞═════╪═══════╪══════════════════╪═════════════════╪═════════════════════════╡\n",
       "│ b   ┆ 8     ┆ update_postimage ┆ 3               ┆ 2024-11-29 18:48:18.793 │\n",
       "│ e   ┆ 9     ┆ insert           ┆ 3               ┆ 2024-11-29 18:48:18.793 │\n",
       "└─────┴───────┴──────────────────┴─────────────────┴─────────────────────────┘"
      ]
     },
     "execution_count": 20,
     "metadata": {},
     "output_type": "execute_result"
    }
   ],
   "source": [
    "low_watermark = read_watermark(target_table_path, watermark_table)\n",
    "\n",
    "rows = delta_changes_from_timestamp(source_table_path, starting_timestamp=low_watermark, key_columns=merge_columnns, drop_cdf_columns=False)\n",
    "new_watermark_version = rows.select(pl.max(\"_commit_version\")).item()\n",
    "new_watermark_ts = rows.filter(pl.col(\"_commit_version\") == new_watermark_version).select(pl.max(\"_commit_timestamp\")).item()\n",
    "\n",
    "print(new_watermark_version, new_watermark_ts)\n",
    "rows"
   ]
  },
  {
   "cell_type": "code",
   "execution_count": null,
   "metadata": {},
   "outputs": [],
   "source": [
    "# Do something with rows to write rows into target_table_path\n",
    "..."
   ]
  },
  {
   "cell_type": "code",
   "execution_count": 22,
   "metadata": {},
   "outputs": [],
   "source": [
    "if new_watermark_ts is not None:\n",
    "    watermark_update = pl.DataFrame(\n",
    "        data=[[target_table_path, merge_columnns, content_columns, new_watermark_version, new_watermark_ts]], \n",
    "        schema=[\"table_path\", \"merge_columns\", \"content_columns\", \"watermark_version\", \"watermark_timestamp\"], \n",
    "        orient=\"row\"\n",
    "    )\n",
    "\n",
    "    try_merge_delta(watermark_update, watermark_table, \"source.table_path == target.table_path\")"
   ]
  },
  {
   "cell_type": "markdown",
   "metadata": {},
   "source": [
    "### Lets try to read the watermark again without updates"
   ]
  },
  {
   "cell_type": "code",
   "execution_count": 23,
   "metadata": {},
   "outputs": [
    {
     "data": {
      "text/plain": [
       "datetime.datetime(2024, 11, 29, 18, 48, 18, 793000)"
      ]
     },
     "execution_count": 23,
     "metadata": {},
     "output_type": "execute_result"
    }
   ],
   "source": [
    "read_watermark(target_table_path, watermark_table)"
   ]
  },
  {
   "cell_type": "code",
   "execution_count": 24,
   "metadata": {},
   "outputs": [
    {
     "name": "stdout",
     "output_type": "stream",
     "text": [
      "None None\n"
     ]
    },
    {
     "data": {
      "text/html": [
       "<div><style>\n",
       ".dataframe > thead > tr,\n",
       ".dataframe > tbody > tr {\n",
       "  text-align: right;\n",
       "  white-space: pre-wrap;\n",
       "}\n",
       "</style>\n",
       "<small>shape: (0, 5)</small><table border=\"1\" class=\"dataframe\"><thead><tr><th>id</th><th>value</th><th>_change_type</th><th>_commit_version</th><th>_commit_timestamp</th></tr><tr><td>str</td><td>i64</td><td>str</td><td>i64</td><td>datetime[ms]</td></tr></thead><tbody></tbody></table></div>"
      ],
      "text/plain": [
       "shape: (0, 5)\n",
       "┌─────┬───────┬──────────────┬─────────────────┬───────────────────┐\n",
       "│ id  ┆ value ┆ _change_type ┆ _commit_version ┆ _commit_timestamp │\n",
       "│ --- ┆ ---   ┆ ---          ┆ ---             ┆ ---               │\n",
       "│ str ┆ i64   ┆ str          ┆ i64             ┆ datetime[ms]      │\n",
       "╞═════╪═══════╪══════════════╪═════════════════╪═══════════════════╡\n",
       "└─────┴───────┴──────────────┴─────────────────┴───────────────────┘"
      ]
     },
     "execution_count": 24,
     "metadata": {},
     "output_type": "execute_result"
    }
   ],
   "source": [
    "low_watermark = read_watermark(target_table_path, watermark_table)\n",
    "\n",
    "rows = delta_changes_from_timestamp(source_table_path, starting_timestamp=low_watermark, key_columns=merge_columnns, drop_cdf_columns=False)\n",
    "new_watermark_version = rows.select(pl.max(\"_commit_version\")).item()\n",
    "new_watermark_ts = rows.filter(pl.col(\"_commit_version\") == new_watermark_version).select(pl.max(\"_commit_timestamp\")).item() if new_watermark_version else None\n",
    "\n",
    "print(new_watermark_version, new_watermark_ts)\n",
    "rows"
   ]
  },
  {
   "cell_type": "markdown",
   "metadata": {},
   "source": [
    "## Deep dive on CDF data"
   ]
  },
  {
   "cell_type": "code",
   "execution_count": 25,
   "metadata": {},
   "outputs": [],
   "source": [
    "from pathlib import Path\n",
    "import json\n",
    "\n",
    "change_data_path = (Path(source_table_path) / \"_change_data/*\")\n",
    "log_data_path = next((Path(source_table_path) / \"_delta_log\").glob(\"*0001.json\"))\n",
    "\n",
    "delta_log = pl.read_ndjson(log_data_path)\n",
    "change_data_details = pl.read_parquet(str(change_data_path))"
   ]
  },
  {
   "cell_type": "code",
   "execution_count": 26,
   "metadata": {},
   "outputs": [
    {
     "name": "stdout",
     "output_type": "stream",
     "text": [
      "{\"add\":{\"path\":\"part-00001-439e3da8-75f9-4cf6-ade2-02c9a9787a16-c000.snappy.parquet\",\"partitionValues\":{},\"size\":745,\"modificationTime\":1732906097587,\"dataChange\":true,\"stats\":\"{\\\"numRecords\\\":1,\\\"minValues\\\":{\\\"id\\\":\\\"d\\\",\\\"value\\\":5},\\\"maxValues\\\":{\\\"value\\\":5,\\\"id\\\":\\\"d\\\"},\\\"nullCount\\\":{\\\"value\\\":0,\\\"id\\\":0}}\",\"tags\":null,\"deletionVector\":null,\"baseRowId\":null,\"defaultRowCommitVersion\":null,\"clusteringProvider\":null}}\n",
      "{\"add\":{\"path\":\"part-00001-0df68d68-d8a0-42bc-836d-209e76e0c4b9-c000.snappy.parquet\",\"partitionValues\":{},\"size\":768,\"modificationTime\":1732906097588,\"dataChange\":true,\"stats\":\"{\\\"numRecords\\\":3,\\\"minValues\\\":{\\\"id\\\":\\\"a\\\",\\\"value\\\":1},\\\"maxValues\\\":{\\\"value\\\":5,\\\"id\\\":\\\"c\\\"},\\\"nullCount\\\":{\\\"value\\\":0,\\\"id\\\":0}}\",\"tags\":null,\"deletionVector\":null,\"baseRowId\":null,\"defaultRowCommitVersion\":null,\"clusteringProvider\":null}}\n",
      "{\"cdc\":{\"path\":\"_change_data/part-00001-6733794a-170e-483c-a9e5-fd7b8c223a42-c000.snappy.parquet\",\"size\":1117,\"partitionValues\":{},\"dataChange\":false}}\n",
      "{\"cdc\":{\"path\":\"_change_data/part-00001-97325e1e-9c00-47c9-86fd-491631169281-c000.snappy.parquet\",\"size\":1124,\"partitionValues\":{},\"dataChange\":false}}\n",
      "{\"cdc\":{\"path\":\"_change_data/part-00001-bfef71f4-cb9e-43c9-ab62-fa227e41b331-c000.snappy.parquet\",\"size\":1054,\"partitionValues\":{},\"dataChange\":false}}\n",
      "{\"remove\":{\"path\":\"part-00001-6932f434-1dd2-4006-85cc-3ba81e732aea-c000.snappy.parquet\",\"dataChange\":true,\"deletionTimestamp\":1732906097792,\"extendedFileMetadata\":true,\"partitionValues\":{},\"size\":759}}\n",
      "{\"commitInfo\":{\"timestamp\":1732906097792,\"operation\":\"MERGE\",\"operationParameters\":{\"notMatchedBySourcePredicates\":\"[]\",\"matchedPredicates\":\"[{\\\"actionType\\\":\\\"update\\\",\\\"predicate\\\":\\\"source.value != target.value\\\"}]\",\"notMatchedPredicates\":\"[{\\\"actionType\\\":\\\"insert\\\"}]\",\"predicate\":\"id BETWEEN 'a' AND 'd'\",\"mergePredicate\":\"source.id = target.id\"},\"clientVersion\":\"delta-rs.0.22.1\",\"readVersion\":0,\"operationMetrics\":{\"execution_time_ms\":251,\"num_output_rows\":4,\"num_source_rows\":2,\"num_target_files_added\":5,\"num_target_files_removed\":1,\"num_target_files_scanned\":1,\"num_target_files_skipped_during_scan\":0,\"num_target_rows_copied\":2,\"num_target_rows_deleted\":0,\"num_target_rows_inserted\":1,\"num_target_rows_updated\":1,\"rewrite_time_ms\":210,\"scan_time_ms\":0}}}\n"
     ]
    }
   ],
   "source": [
    "print(log_data_path.read_text())"
   ]
  },
  {
   "cell_type": "code",
   "execution_count": 27,
   "metadata": {},
   "outputs": [
    {
     "data": {
      "text/html": [
       "<div><style>\n",
       ".dataframe > thead > tr,\n",
       ".dataframe > tbody > tr {\n",
       "  text-align: right;\n",
       "  white-space: pre-wrap;\n",
       "}\n",
       "</style>\n",
       "<small>shape: (7, 4)</small><table border=\"1\" class=\"dataframe\"><thead><tr><th>add</th><th>cdc</th><th>remove</th><th>commitInfo</th></tr><tr><td>struct[11]</td><td>struct[4]</td><td>struct[6]</td><td>struct[6]</td></tr></thead><tbody><tr><td>{&quot;part-00001-439e3da8-75f9-4cf6-ade2-02c9a9787a16-c000.snappy.parquet&quot;,{},745,1732906097587,true,&quot;{&quot;numRecords&quot;:1,&quot;minValues&quot;:{&quot;id&quot;:&quot;d&quot;,&quot;value&quot;:5},&quot;maxValues&quot;:{&quot;value&quot;:5,&quot;id&quot;:&quot;d&quot;},&quot;nullCount&quot;:{&quot;value&quot;:0,&quot;id&quot;:0}}&quot;,null,null,null,null,null}</td><td>null</td><td>null</td><td>null</td></tr><tr><td>{&quot;part-00001-0df68d68-d8a0-42bc-836d-209e76e0c4b9-c000.snappy.parquet&quot;,{},768,1732906097588,true,&quot;{&quot;numRecords&quot;:3,&quot;minValues&quot;:{&quot;id&quot;:&quot;a&quot;,&quot;value&quot;:1},&quot;maxValues&quot;:{&quot;value&quot;:5,&quot;id&quot;:&quot;c&quot;},&quot;nullCount&quot;:{&quot;value&quot;:0,&quot;id&quot;:0}}&quot;,null,null,null,null,null}</td><td>null</td><td>null</td><td>null</td></tr><tr><td>null</td><td>{&quot;_change_data/part-00001-6733794a-170e-483c-a9e5-fd7b8c223a42-c000.snappy.parquet&quot;,1117,{},false}</td><td>null</td><td>null</td></tr><tr><td>null</td><td>{&quot;_change_data/part-00001-97325e1e-9c00-47c9-86fd-491631169281-c000.snappy.parquet&quot;,1124,{},false}</td><td>null</td><td>null</td></tr><tr><td>null</td><td>{&quot;_change_data/part-00001-bfef71f4-cb9e-43c9-ab62-fa227e41b331-c000.snappy.parquet&quot;,1054,{},false}</td><td>null</td><td>null</td></tr><tr><td>null</td><td>null</td><td>{&quot;part-00001-6932f434-1dd2-4006-85cc-3ba81e732aea-c000.snappy.parquet&quot;,true,1732906097792,true,{},759}</td><td>null</td></tr><tr><td>null</td><td>null</td><td>null</td><td>{1732906097792,&quot;MERGE&quot;,{&quot;[]&quot;,&quot;[{&quot;actionType&quot;:&quot;update&quot;,&quot;predicate&quot;:&quot;source.value != target.value&quot;}]&quot;,&quot;[{&quot;actionType&quot;:&quot;insert&quot;}]&quot;,&quot;id BETWEEN &#x27;a&#x27; AND &#x27;d&#x27;&quot;,&quot;source.id = target.id&quot;},&quot;delta-rs.0.22.1&quot;,0,{251,4,2,5,1,1,0,2,0,1,1,210,0}}</td></tr></tbody></table></div>"
      ],
      "text/plain": [
       "shape: (7, 4)\n",
       "┌────────────────────────┬────────────────────────┬────────────────────────┬───────────────────────┐\n",
       "│ add                    ┆ cdc                    ┆ remove                 ┆ commitInfo            │\n",
       "│ ---                    ┆ ---                    ┆ ---                    ┆ ---                   │\n",
       "│ struct[11]             ┆ struct[4]              ┆ struct[6]              ┆ struct[6]             │\n",
       "╞════════════════════════╪════════════════════════╪════════════════════════╪═══════════════════════╡\n",
       "│ {\"part-00001-439e3da8- ┆ null                   ┆ null                   ┆ null                  │\n",
       "│ 75f9-4cf…              ┆                        ┆                        ┆                       │\n",
       "│ {\"part-00001-0df68d68- ┆ null                   ┆ null                   ┆ null                  │\n",
       "│ d8a0-42b…              ┆                        ┆                        ┆                       │\n",
       "│ null                   ┆ {\"_change_data/part-00 ┆ null                   ┆ null                  │\n",
       "│                        ┆ 001-6733…              ┆                        ┆                       │\n",
       "│ null                   ┆ {\"_change_data/part-00 ┆ null                   ┆ null                  │\n",
       "│                        ┆ 001-9732…              ┆                        ┆                       │\n",
       "│ null                   ┆ {\"_change_data/part-00 ┆ null                   ┆ null                  │\n",
       "│                        ┆ 001-bfef…              ┆                        ┆                       │\n",
       "│ null                   ┆ null                   ┆ {\"part-00001-6932f434- ┆ null                  │\n",
       "│                        ┆                        ┆ 1dd2-400…              ┆                       │\n",
       "│ null                   ┆ null                   ┆ null                   ┆ {1732906097792,\"MERGE │\n",
       "│                        ┆                        ┆                        ┆ \",{\"[]\",\"…            │\n",
       "└────────────────────────┴────────────────────────┴────────────────────────┴───────────────────────┘"
      ]
     },
     "execution_count": 27,
     "metadata": {},
     "output_type": "execute_result"
    }
   ],
   "source": [
    "delta_log"
   ]
  },
  {
   "cell_type": "code",
   "execution_count": 28,
   "metadata": {},
   "outputs": [
    {
     "data": {
      "text/html": [
       "<div><style>\n",
       ".dataframe > thead > tr,\n",
       ".dataframe > tbody > tr {\n",
       "  text-align: right;\n",
       "  white-space: pre-wrap;\n",
       "}\n",
       "</style>\n",
       "<small>shape: (10, 3)</small><table border=\"1\" class=\"dataframe\"><thead><tr><th>id</th><th>value</th><th>_change_type</th></tr><tr><td>str</td><td>i64</td><td>str</td></tr></thead><tbody><tr><td>&quot;a&quot;</td><td>1</td><td>&quot;update_preimage&quot;</td></tr><tr><td>&quot;b&quot;</td><td>6</td><td>&quot;update_postimage&quot;</td></tr><tr><td>&quot;a&quot;</td><td>5</td><td>&quot;update_preimage&quot;</td></tr><tr><td>&quot;a&quot;</td><td>5</td><td>&quot;update_postimage&quot;</td></tr><tr><td>&quot;e&quot;</td><td>9</td><td>&quot;insert&quot;</td></tr><tr><td>&quot;a&quot;</td><td>6</td><td>&quot;update_postimage&quot;</td></tr><tr><td>&quot;b&quot;</td><td>8</td><td>&quot;update_postimage&quot;</td></tr><tr><td>&quot;d&quot;</td><td>5</td><td>&quot;insert&quot;</td></tr><tr><td>&quot;b&quot;</td><td>6</td><td>&quot;update_preimage&quot;</td></tr><tr><td>&quot;b&quot;</td><td>1</td><td>&quot;update_preimage&quot;</td></tr></tbody></table></div>"
      ],
      "text/plain": [
       "shape: (10, 3)\n",
       "┌─────┬───────┬──────────────────┐\n",
       "│ id  ┆ value ┆ _change_type     │\n",
       "│ --- ┆ ---   ┆ ---              │\n",
       "│ str ┆ i64   ┆ str              │\n",
       "╞═════╪═══════╪══════════════════╡\n",
       "│ a   ┆ 1     ┆ update_preimage  │\n",
       "│ b   ┆ 6     ┆ update_postimage │\n",
       "│ a   ┆ 5     ┆ update_preimage  │\n",
       "│ a   ┆ 5     ┆ update_postimage │\n",
       "│ e   ┆ 9     ┆ insert           │\n",
       "│ a   ┆ 6     ┆ update_postimage │\n",
       "│ b   ┆ 8     ┆ update_postimage │\n",
       "│ d   ┆ 5     ┆ insert           │\n",
       "│ b   ┆ 6     ┆ update_preimage  │\n",
       "│ b   ┆ 1     ┆ update_preimage  │\n",
       "└─────┴───────┴──────────────────┘"
      ]
     },
     "execution_count": 28,
     "metadata": {},
     "output_type": "execute_result"
    }
   ],
   "source": [
    "change_data_details"
   ]
  }
 ],
 "metadata": {
  "kernelspec": {
   "display_name": "data-examples-FImHVUgd",
   "language": "python",
   "name": "python3"
  },
  "language_info": {
   "codemirror_mode": {
    "name": "ipython",
    "version": 3
   },
   "file_extension": ".py",
   "mimetype": "text/x-python",
   "name": "python",
   "nbconvert_exporter": "python",
   "pygments_lexer": "ipython3",
   "version": "3.12.7"
  }
 },
 "nbformat": 4,
 "nbformat_minor": 2
}
